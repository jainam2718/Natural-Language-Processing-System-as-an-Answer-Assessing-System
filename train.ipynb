{
 "cells": [
  {
   "cell_type": "code",
   "execution_count": 1,
   "metadata": {},
   "outputs": [],
   "source": [
    "import torch\n",
    "import torch.nn as nn\n",
    "import sent2vec\n",
    "import pandas as pd\n",
    "from torch.utils.data import Dataset, DataLoader\n",
    "from sklearn.metrics import accuracy_score, precision_score, recall_score, f1_score"
   ]
  },
  {
   "cell_type": "code",
   "execution_count": 2,
   "metadata": {},
   "outputs": [
    {
     "name": "stdout",
     "output_type": "stream",
     "text": [
      "Model successfully loaded\n"
     ]
    }
   ],
   "source": [
    "import sent2vec\n",
    "# Load the pre-trained Sent2Vec model\n",
    "model_path = \"./model/BioSentVec_PubMed_MIMICIII-bigram_d700.bin\"\n",
    "sent_model = sent2vec.Sent2vecModel()\n",
    "try:\n",
    "    sent_model.load_model(model_path)\n",
    "except Exception as e:\n",
    "    print(e)\n",
    "print('Model successfully loaded')"
   ]
  },
  {
   "cell_type": "code",
   "execution_count": 3,
   "metadata": {},
   "outputs": [
    {
     "name": "stdout",
     "output_type": "stream",
     "text": [
      "Accuracy: 0.3700\n",
      "Precision: 0.4066\n",
      "Recall: 0.8043\n",
      "F1 Score: 0.5401\n"
     ]
    }
   ],
   "source": [
    "import pandas as pd\n",
    "from scipy.spatial.distance import cosine\n",
    "# Load the dataset from CSV\n",
    "test_df = pd.read_csv(\"./data/biosses_dataset.csv\")\n",
    "\n",
    "# Extract sentences and labels from the dataset\n",
    "sentences1 = test_df[\"sentence1\"]\n",
    "sentences2 = test_df[\"sentence2\"]\n",
    "labels = test_df[\"score\"] / 5  # Normalize the scores to be between 0 and 1\n",
    "\n",
    "# Pre-embed sentences using Sent2Vec\n",
    "test_embeddings1 = [sent_model.embed_sentence(str(sentence)).reshape(-1) for sentence in sentences1]\n",
    "test_embeddings2 = [sent_model.embed_sentence(str(sentence)).reshape(-1) for sentence in sentences2]\n",
    "\n",
    "predictions0 = [cosine(x,y) for x,y in zip(test_embeddings1, test_embeddings2)]\n",
    "true_labels = [1 if pred >= 0.5 else 0 for pred in labels]\n",
    "binary_predictions = [1 if pred >= 0.4 else 0 for pred in predictions0]\n",
    "\n",
    "# Calculate evaluation metrics\n",
    "accuracy = accuracy_score(true_labels, binary_predictions)\n",
    "precision = precision_score(true_labels, binary_predictions)\n",
    "recall = recall_score(true_labels, binary_predictions)\n",
    "f1 = f1_score(true_labels, binary_predictions)\n",
    "print(f'Accuracy: {accuracy:.4f}')\n",
    "print(f'Precision: {precision:.4f}')\n",
    "print(f'Recall: {recall:.4f}')\n",
    "print(f'F1 Score: {f1:.4f}')"
   ]
  },
  {
   "cell_type": "code",
   "execution_count": 4,
   "metadata": {},
   "outputs": [],
   "source": [
    "# Define neural network model\n",
    "class SentenceSimilarityModel(nn.Module):\n",
    "    def __init__(self, input_size):\n",
    "        super(SentenceSimilarityModel, self).__init__()\n",
    "        self.fc = nn.Linear(input_size, 1)\n",
    "\n",
    "    def forward(self, x):\n",
    "        output = torch.sigmoid(self.fc(x))  # Sigmoid for binary classification\n",
    "        return output\n",
    "\n",
    "# Custom dataset for pre-embedded sentences\n",
    "class EmbeddingDataset(Dataset):\n",
    "    def __init__(self, sentences1, sentences2, labels):\n",
    "        self.sentences1 = sentences1\n",
    "        self.sentences2 = sentences2\n",
    "        self.labels = labels\n",
    "\n",
    "    def __len__(self):\n",
    "        return len(self.labels)\n",
    "\n",
    "    def __getitem__(self, idx):\n",
    "        return self.sentences1[idx], self.sentences2[idx], self.labels[idx]\n"
   ]
  },
  {
   "cell_type": "code",
   "execution_count": 20,
   "metadata": {},
   "outputs": [],
   "source": [
    "# Load the dataset from CSV\n",
    "df = pd.read_csv(\"./data/biosses_back_translation_augmented.csv\")\n",
    "\n",
    "# Extract sentences and labels from the dataset\n",
    "sentences1 = df[\"sentence1\"]\n",
    "sentences2 = df[\"sentence2\"]\n",
    "labels = df[\"score\"] / 5  # Normalize the scores to be between 0 and 1\n",
    "\n",
    "# Pre-embed sentences using Sent2Vec\n",
    "embeddings1 = [sent_model.embed_sentence(str(sentence)) for sentence in sentences1]\n",
    "embeddings2 = [sent_model.embed_sentence(str(sentence)) for sentence in sentences2]"
   ]
  },
  {
   "cell_type": "code",
   "execution_count": 14,
   "metadata": {},
   "outputs": [
    {
     "data": {
      "text/plain": [
       "100"
      ]
     },
     "execution_count": 14,
     "metadata": {},
     "output_type": "execute_result"
    }
   ],
   "source": [
    "len(sentences1)"
   ]
  },
  {
   "cell_type": "code",
   "execution_count": 21,
   "metadata": {},
   "outputs": [],
   "source": [
    "# Flatten embeddings and convert to tensors\n",
    "flatten = lambda t: t.reshape(t.shape[0], -1)  # Define flatten function\n",
    "embeddings1_tensor = flatten(torch.tensor(embeddings1, dtype=torch.float32))\n",
    "embeddings2_tensor = flatten(torch.tensor(embeddings2, dtype=torch.float32))\n",
    "labels_tensor = torch.tensor(labels.values, dtype=torch.float32)"
   ]
  },
  {
   "cell_type": "code",
   "execution_count": 22,
   "metadata": {},
   "outputs": [],
   "source": [
    "accuracy_scores = []\n",
    "f1_scores = []"
   ]
  },
  {
   "cell_type": "code",
   "execution_count": 23,
   "metadata": {},
   "outputs": [
    {
     "name": "stdout",
     "output_type": "stream",
     "text": [
      "Training on 10% of data\n",
      "Accuracy: 0.4700\n",
      "Precision: 0.4646\n",
      "Recall: 1.0000\n",
      "F1 Score: 0.6345\n",
      "Training on 20% of data\n",
      "Accuracy: 0.5200\n",
      "Precision: 0.4894\n",
      "Recall: 1.0000\n",
      "F1 Score: 0.6571\n",
      "Training on 30% of data\n",
      "Accuracy: 0.5100\n",
      "Precision: 0.4842\n",
      "Recall: 1.0000\n",
      "F1 Score: 0.6525\n",
      "Training on 40% of data\n",
      "Accuracy: 0.4800\n",
      "Precision: 0.4694\n",
      "Recall: 1.0000\n",
      "F1 Score: 0.6389\n",
      "Training on 50% of data\n",
      "Accuracy: 0.5100\n",
      "Precision: 0.4842\n",
      "Recall: 1.0000\n",
      "F1 Score: 0.6525\n",
      "Training on 60% of data\n",
      "Accuracy: 0.5100\n",
      "Precision: 0.4842\n",
      "Recall: 1.0000\n",
      "F1 Score: 0.6525\n",
      "Training on 70% of data\n",
      "Accuracy: 0.5100\n",
      "Precision: 0.4842\n",
      "Recall: 1.0000\n",
      "F1 Score: 0.6525\n",
      "Training on 80% of data\n",
      "Accuracy: 0.5700\n",
      "Precision: 0.5169\n",
      "Recall: 1.0000\n",
      "F1 Score: 0.6815\n",
      "Training on 90% of data\n",
      "Accuracy: 0.6200\n",
      "Precision: 0.5476\n",
      "Recall: 1.0000\n",
      "F1 Score: 0.7077\n",
      "Training on 100% of data\n",
      "Accuracy: 0.6700\n",
      "Precision: 0.5844\n",
      "Recall: 0.9783\n",
      "F1 Score: 0.7317\n"
     ]
    }
   ],
   "source": [
    "for i in range(10, 110, 10):\n",
    "    # Create the dataset and dataloader\n",
    "    dataset = EmbeddingDataset(embeddings1_tensor[:i], embeddings2_tensor[:i], labels_tensor[:i])\n",
    "    dataloader = DataLoader(dataset, batch_size=32, shuffle=True)\n",
    "\n",
    "    # Initialize the model\n",
    "    input_size = embeddings1_tensor.size(1) + embeddings2_tensor.size(1)  # Calculate input size dynamically\n",
    "    model = SentenceSimilarityModel(input_size=input_size)\n",
    "    # Define optimizer and loss function\n",
    "    optimizer = torch.optim.Adam(model.parameters(), lr=1e-3)\n",
    "    criterion = nn.BCELoss()  # Binary Cross-Entropy Loss for binary classification\n",
    "    print(f\"Training on {i}% of data\")\n",
    "    # Training loop\n",
    "    num_epochs = 10\n",
    "    for epoch in range(num_epochs):\n",
    "        for batch in dataloader:\n",
    "            optimizer.zero_grad()\n",
    "            embeddings1_batch, embeddings2_batch, labels_batch = batch\n",
    "            concatenated_embeddings = torch.cat((embeddings1_batch, embeddings2_batch), dim=1)\n",
    "            outputs = model(concatenated_embeddings)\n",
    "            loss = criterion(outputs, labels_batch.unsqueeze(1))  # Ensure labels shape matches outputs\n",
    "            loss.backward()\n",
    "            optimizer.step()\n",
    "        # print(f'Epoch {epoch+1}/{num_epochs}, Loss: {loss.item():.4f}')\n",
    "\n",
    "    # Load the dataset from CSV\n",
    "    df = pd.read_csv(\"./data/biosses_dataset.csv\")\n",
    "\n",
    "    # Extract sentences and labels from the dataset\n",
    "    sentences1 = df[\"sentence1\"]\n",
    "    sentences2 = df[\"sentence2\"]\n",
    "    labels = df[\"score\"] / 5  # Normalize the scores to be between 0 and 1\n",
    "\n",
    "    # Pre-embed sentences using Sent2Vec\n",
    "    embeddings1 = [sent_model.embed_sentence(str(sentence)) for sentence in sentences1]\n",
    "    embeddings2 = [sent_model.embed_sentence(str(sentence)) for sentence in sentences2]\n",
    "\n",
    "    # Flatten embeddings and convert to tensors\n",
    "    flatten = lambda t: t.reshape(t.shape[0], -1)  # Define flatten function\n",
    "    embeddings1_tensor = flatten(torch.tensor(embeddings1, dtype=torch.float32))\n",
    "    embeddings2_tensor = flatten(torch.tensor(embeddings2, dtype=torch.float32))\n",
    "    labels_tensor = torch.tensor(labels.values, dtype=torch.float32)\n",
    "\n",
    "    # Create the dataset and dataloader\n",
    "    dataset = EmbeddingDataset(embeddings1_tensor, embeddings2_tensor, labels_tensor)\n",
    "    dataloader = DataLoader(dataset, batch_size=32, shuffle=True)\n",
    "\n",
    "    # Evaluation\n",
    "    model.eval()\n",
    "    predictions = []\n",
    "    true_labels = []\n",
    "    with torch.no_grad():\n",
    "        for embeddings1_batch, embeddings2_batch, labels_batch in dataloader:\n",
    "            concatenated_embeddings = torch.cat((embeddings1_batch, embeddings2_batch), dim=1)\n",
    "            outputs = model(concatenated_embeddings)\n",
    "            predictions.extend(outputs.squeeze().tolist())\n",
    "            true_labels.extend(labels_batch.tolist())\n",
    "\n",
    "\n",
    "\n",
    "    true_labels = [1 if pred >= 0.5 else 0 for pred in true_labels]\n",
    "\n",
    "    # Convert predictions to binary (0 or 1) based on threshold\n",
    "    binary_predictions = [1 if pred >= 0.4 else 0 for pred in predictions]\n",
    "    \n",
    "    # Calculate evaluation metrics\n",
    "    accuracy = accuracy_score(true_labels, binary_predictions)\n",
    "    precision = precision_score(true_labels, binary_predictions)\n",
    "    recall = recall_score(true_labels, binary_predictions)\n",
    "    f1 = f1_score(true_labels, binary_predictions)\n",
    "    accuracy_scores.append(accuracy)\n",
    "    f1_scores.append(f1)\n",
    "    print(f'Accuracy: {accuracy:.4f}')\n",
    "    print(f'Precision: {precision:.4f}')\n",
    "    print(f'Recall: {recall:.4f}')\n",
    "    print(f'F1 Score: {f1:.4f}')"
   ]
  },
  {
   "cell_type": "code",
   "execution_count": 24,
   "metadata": {},
   "outputs": [
    {
     "data": {
      "image/png": "[encoded data removed]",
      "text/plain": [
       "<Figure size 640x480 with 1 Axes>"
      ]
     },
     "metadata": {},
     "output_type": "display_data"
    }
   ],
   "source": [
    "import matplotlib.pyplot as plt\n",
    "plt.xlabel(\"%\" + \" of augmented data model is trained\")\n",
    "plt.ylabel(\"score\")\n",
    "plt.title(\"Model trained on augmented data from back-translation\")\n",
    "plt.plot([x for x in range(10, 110, 10)], accuracy_scores, marker='o', color='blue', label='accuracy')  # Plot the chart\n",
    "plt.plot([x for x in range(10, 110, 10)], f1_scores, marker='.', color='green', label='f1 score')\n",
    "plt.xticks([x for x in range(10, 110, 10)])\n",
    "plt.yticks([x/10 for x in range(4, 9, 1)])\n",
    "plt.legend()\n",
    "plt.show() "
   ]
  },
  {
   "cell_type": "code",
   "execution_count": 15,
   "metadata": {},
   "outputs": [],
   "source": [
    "# Load the dataset from CSV\n",
    "df = pd.read_csv(\"./data/biosses_synonym_replacement_augmented.csv\")\n",
    "\n",
    "# Extract sentences and labels from the dataset\n",
    "sentences1 = df[\"sentence1\"]\n",
    "sentences2 = df[\"sentence2\"]\n",
    "labels = df[\"score\"] / 5  # Normalize the scores to be between 0 and 1\n",
    "\n",
    "# Pre-embed sentences using Sent2Vec\n",
    "embeddings1 = [sent_model.embed_sentence(str(sentence)) for sentence in sentences1]\n",
    "embeddings2 = [sent_model.embed_sentence(str(sentence)) for sentence in sentences2]"
   ]
  },
  {
   "cell_type": "code",
   "execution_count": 16,
   "metadata": {},
   "outputs": [],
   "source": [
    "# Flatten embeddings and convert to tensors\n",
    "flatten = lambda t: t.reshape(t.shape[0], -1)  # Define flatten function\n",
    "embeddings1_tensor = flatten(torch.tensor(embeddings1, dtype=torch.float32))\n",
    "embeddings2_tensor = flatten(torch.tensor(embeddings2, dtype=torch.float32))\n",
    "labels_tensor = torch.tensor(labels.values, dtype=torch.float32)"
   ]
  },
  {
   "cell_type": "code",
   "execution_count": 17,
   "metadata": {},
   "outputs": [],
   "source": [
    "accuracy_scores = []\n",
    "f1_scores = []"
   ]
  },
  {
   "cell_type": "code",
   "execution_count": 18,
   "metadata": {},
   "outputs": [
    {
     "name": "stdout",
     "output_type": "stream",
     "text": [
      "Training on 10% of data\n",
      "Accuracy: 0.4600\n",
      "Precision: 0.4600\n",
      "Recall: 1.0000\n",
      "F1 Score: 0.6301\n",
      "Training on 20% of data\n",
      "Accuracy: 0.5100\n",
      "Precision: 0.4842\n",
      "Recall: 1.0000\n",
      "F1 Score: 0.6525\n",
      "Training on 30% of data\n",
      "Accuracy: 0.5400\n",
      "Precision: 0.5000\n",
      "Recall: 1.0000\n",
      "F1 Score: 0.6667\n",
      "Training on 40% of data\n",
      "Accuracy: 0.4800\n",
      "Precision: 0.4694\n",
      "Recall: 1.0000\n",
      "F1 Score: 0.6389\n",
      "Training on 50% of data\n",
      "Accuracy: 0.5000\n",
      "Precision: 0.4792\n",
      "Recall: 1.0000\n",
      "F1 Score: 0.6479\n",
      "Training on 60% of data\n",
      "Accuracy: 0.5300\n",
      "Precision: 0.4946\n",
      "Recall: 1.0000\n",
      "F1 Score: 0.6619\n",
      "Training on 70% of data\n",
      "Accuracy: 0.5200\n",
      "Precision: 0.4894\n",
      "Recall: 1.0000\n",
      "F1 Score: 0.6571\n",
      "Training on 80% of data\n",
      "Accuracy: 0.5400\n",
      "Precision: 0.5000\n",
      "Recall: 1.0000\n",
      "F1 Score: 0.6667\n",
      "Training on 90% of data\n",
      "Accuracy: 0.6000\n",
      "Precision: 0.5349\n",
      "Recall: 1.0000\n",
      "F1 Score: 0.6970\n",
      "Training on 100% of data\n",
      "Accuracy: 0.6500\n",
      "Precision: 0.5679\n",
      "Recall: 1.0000\n",
      "F1 Score: 0.7244\n"
     ]
    }
   ],
   "source": [
    "for i in range(10, 110, 10):\n",
    "    # Create the dataset and dataloader\n",
    "    dataset = EmbeddingDataset(embeddings1_tensor[:i], embeddings2_tensor[:i], labels_tensor[:i])\n",
    "    dataloader = DataLoader(dataset, batch_size=32, shuffle=True)\n",
    "\n",
    "    # Initialize the model\n",
    "    input_size = embeddings1_tensor.size(1) + embeddings2_tensor.size(1)  # Calculate input size dynamically\n",
    "    model = SentenceSimilarityModel(input_size=input_size)\n",
    "    # Define optimizer and loss function\n",
    "    optimizer = torch.optim.Adam(model.parameters(), lr=1e-3)\n",
    "    criterion = nn.BCELoss()  # Binary Cross-Entropy Loss for binary classification\n",
    "    print(f\"Training on {i}% of data\")\n",
    "    # Training loop\n",
    "    num_epochs = 10\n",
    "    for epoch in range(num_epochs):\n",
    "        for batch in dataloader:\n",
    "            optimizer.zero_grad()\n",
    "            embeddings1_batch, embeddings2_batch, labels_batch = batch\n",
    "            concatenated_embeddings = torch.cat((embeddings1_batch, embeddings2_batch), dim=1)\n",
    "            outputs = model(concatenated_embeddings)\n",
    "            loss = criterion(outputs, labels_batch.unsqueeze(1))  # Ensure labels shape matches outputs\n",
    "            loss.backward()\n",
    "            optimizer.step()\n",
    "        # print(f'Epoch {epoch+1}/{num_epochs}, Loss: {loss.item():.4f}')\n",
    "\n",
    "    # Load the dataset from CSV\n",
    "    df = pd.read_csv(\"./data/biosses_dataset.csv\")\n",
    "\n",
    "    # Extract sentences and labels from the dataset\n",
    "    sentences1 = df[\"sentence1\"]\n",
    "    sentences2 = df[\"sentence2\"]\n",
    "    labels = df[\"score\"] / 5  # Normalize the scores to be between 0 and 1\n",
    "\n",
    "    # Pre-embed sentences using Sent2Vec\n",
    "    embeddings1 = [sent_model.embed_sentence(str(sentence)) for sentence in sentences1]\n",
    "    embeddings2 = [sent_model.embed_sentence(str(sentence)) for sentence in sentences2]\n",
    "\n",
    "    # Flatten embeddings and convert to tensors\n",
    "    flatten = lambda t: t.reshape(t.shape[0], -1)  # Define flatten function\n",
    "    embeddings1_tensor = flatten(torch.tensor(embeddings1, dtype=torch.float32))\n",
    "    embeddings2_tensor = flatten(torch.tensor(embeddings2, dtype=torch.float32))\n",
    "    labels_tensor = torch.tensor(labels.values, dtype=torch.float32)\n",
    "\n",
    "    # Create the dataset and dataloader\n",
    "    dataset = EmbeddingDataset(embeddings1_tensor, embeddings2_tensor, labels_tensor)\n",
    "    dataloader = DataLoader(dataset, batch_size=32, shuffle=True)\n",
    "\n",
    "    # Evaluation\n",
    "    model.eval()\n",
    "    predictions = []\n",
    "    true_labels = []\n",
    "    with torch.no_grad():\n",
    "        for embeddings1_batch, embeddings2_batch, labels_batch in dataloader:\n",
    "            concatenated_embeddings = torch.cat((embeddings1_batch, embeddings2_batch), dim=1)\n",
    "            outputs = model(concatenated_embeddings)\n",
    "            predictions.extend(outputs.squeeze().tolist())\n",
    "            true_labels.extend(labels_batch.tolist())\n",
    "\n",
    "\n",
    "\n",
    "    true_labels = [1 if pred >= 0.5 else 0 for pred in true_labels]\n",
    "\n",
    "    # Convert predictions to binary (0 or 1) based on threshold\n",
    "    binary_predictions = [1 if pred >= 0.4 else 0 for pred in predictions]\n",
    "    \n",
    "    # Calculate evaluation metrics\n",
    "    accuracy = accuracy_score(true_labels, binary_predictions)\n",
    "    precision = precision_score(true_labels, binary_predictions)\n",
    "    recall = recall_score(true_labels, binary_predictions)\n",
    "    f1 = f1_score(true_labels, binary_predictions)\n",
    "    accuracy_scores.append(accuracy)\n",
    "    f1_scores.append(f1)\n",
    "    print(f'Accuracy: {accuracy:.4f}')\n",
    "    print(f'Precision: {precision:.4f}')\n",
    "    print(f'Recall: {recall:.4f}')\n",
    "    print(f'F1 Score: {f1:.4f}')"
   ]
  },
  {
   "cell_type": "code",
   "execution_count": 19,
   "metadata": {},
   "outputs": [
    {
     "data": {
      "image/png": "[encoded data removed]",
      "text/plain": [
       "<Figure size 640x480 with 1 Axes>"
      ]
     },
     "metadata": {},
     "output_type": "display_data"
    }
   ],
   "source": [
    "import matplotlib.pyplot as plt\n",
    "plt.xlabel(\"%\" + \" of augmented data model is trained\")\n",
    "plt.ylabel(\"score\")\n",
    "plt.title(\"Model trained on augmented data from synonym replacement\")\n",
    "plt.plot([x for x in range(10, 110, 10)], accuracy_scores, marker='o', color='blue', label='accuracy')  # Plot the chart\n",
    "plt.plot([x for x in range(10, 110, 10)], f1_scores, marker='.', color='green', label='f1 score')\n",
    "plt.xticks([x for x in range(10, 110, 10)])\n",
    "plt.yticks([x/10 for x in range(4, 9, 1)])\n",
    "plt.legend()\n",
    "plt.show() "
   ]
  }
 ],
 "metadata": {
  "kernelspec": {
   "display_name": "venv",
   "language": "python",
   "name": "python3"
  },
  "language_info": {
   "codemirror_mode": {
    "name": "ipython",
    "version": 3
   },
   "file_extension": ".py",
   "mimetype": "text/x-python",
   "name": "python",
   "nbconvert_exporter": "python",
   "pygments_lexer": "ipython3",
   "version": "3.11.7"
  }
 },
 "nbformat": 4,
 "nbformat_minor": 2
}
